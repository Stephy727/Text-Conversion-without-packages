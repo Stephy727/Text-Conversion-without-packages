{
 "cells": [
  {
   "cell_type": "markdown",
   "metadata": {},
   "source": [
    "\n",
    "Date: 14/04/2019\n",
    "\n",
    "Environment: Python 3.7.0 and Anaconda3 5.2.0(64-bit)\n",
    "\n",
    "Libraries used:\n",
    "\n",
    "* re 2.2.1 (for regular expression, included in Anaconda Python 3.7.0)\n",
    "* pandas (for dataframe, included in Anaconda Python 3.7.0)\n",
    "* nltk (for text processing)\n",
    "* itertools (for converting dictionary values to list)\n",
    "\n",
    "## 1. Introduction\n",
    "This assessment involves converting unit information into numerical representation suitable as input for various systems such as  recommender system or for information retrieval system. \n",
    "\n",
    "The rules to be followed are:\n",
    "\n",
    "1. The word tokenization must use the following regular expression, \"\\w+(?:[-']\\w+)?\"\n",
    "2. The context-independent and context-dependent (with the threshold set to %95) stop words must be removed from the vocab. The stop words list (i.e, stopwords_en.txt )provided in the zip file must be used.\n",
    "3. Tokens should be stemmed using the Porter stemmer.\n",
    "4. Rare tokens (with the threshold set to %5) must be removed from the vocab.\n",
    "5. Tokens must be normalized to lowercase except the capital tokens appeared in the middle of a sentence/line.\n",
    "6. Tokens with the length less than 3 should be removed from the vocab.\n",
    "7. First 200 meaningful bigrams (i.e., collocations) must be included in the vocab using PMI measure.\n",
    "\n",
    "\n"
   ]
  },
  {
   "cell_type": "markdown",
   "metadata": {},
   "source": [
    "## 2. Import libraries"
   ]
  },
  {
   "cell_type": "code",
   "execution_count": 1,
   "metadata": {},
   "outputs": [],
   "source": [
    "import re\n",
    "import pandas as pd\n",
    "import nltk\n",
    "from itertools import chain"
   ]
  },
  {
   "cell_type": "markdown",
   "metadata": {},
   "source": [
    "## 3. Before loading data\n",
    "### Converting PDF to Excel\n",
    "\n",
    "The PDF data containing three columns namley, Title(unitname), Synopsis, and Outcome is converted to Excel format.\n",
    "The PDF to Excel conversion is done in using website https://simplypdf.com/Excel.\n",
    "    \n",
    "The xlsx file named 29915651.xlsx is loaded for further text processing\n",
    "    \n",
    "\n"
   ]
  },
  {
   "cell_type": "markdown",
   "metadata": {},
   "source": [
    "## 4A. Examining and Loading data\n",
    "\n",
    "As a first step, the file 29915651.xlsx will be loaded so its first 10 lines can be inspected."
   ]
  },
  {
   "cell_type": "code",
   "execution_count": 2,
   "metadata": {},
   "outputs": [
    {
     "data": {
      "text/html": [
       "<div>\n",
       "<style scoped>\n",
       "    .dataframe tbody tr th:only-of-type {\n",
       "        vertical-align: middle;\n",
       "    }\n",
       "\n",
       "    .dataframe tbody tr th {\n",
       "        vertical-align: top;\n",
       "    }\n",
       "\n",
       "    .dataframe thead th {\n",
       "        text-align: right;\n",
       "    }\n",
       "</style>\n",
       "<table border=\"1\" class=\"dataframe\">\n",
       "  <thead>\n",
       "    <tr style=\"text-align: right;\">\n",
       "      <th></th>\n",
       "      <th>Title</th>\n",
       "      <th>Synopsis</th>\n",
       "      <th>Outcomes</th>\n",
       "    </tr>\n",
       "  </thead>\n",
       "  <tbody>\n",
       "    <tr>\n",
       "      <th>0</th>\n",
       "      <td>VPR2011</td>\n",
       "      <td>Research Practices Advanced is a core unit in ...</td>\n",
       "      <td>['Initiate a broad range of conceptual and ana...</td>\n",
       "    </tr>\n",
       "    <tr>\n",
       "      <th>1</th>\n",
       "      <td>VCO2304</td>\n",
       "      <td>This elective builds upon the core unit VCO130...</td>\n",
       "      <td>['Effectively use the elements and principles ...</td>\n",
       "    </tr>\n",
       "    <tr>\n",
       "      <th>2</th>\n",
       "      <td>FIT3176</td>\n",
       "      <td>This unit will introduce advanced concepts in ...</td>\n",
       "      <td>['design a database model from a given scenari...</td>\n",
       "    </tr>\n",
       "    <tr>\n",
       "      <th>3</th>\n",
       "      <td>FIT5127</td>\n",
       "      <td>This unit is a research unit common to FIT Mas...</td>\n",
       "      <td>['design a rigorous Masters level research pro...</td>\n",
       "    </tr>\n",
       "    <tr>\n",
       "      <th>4</th>\n",
       "      <td>EAE3152</td>\n",
       "      <td>The motion of a density-stratified fluid in a ...</td>\n",
       "      <td>['Discuss the physical theory of the motion of...</td>\n",
       "    </tr>\n",
       "  </tbody>\n",
       "</table>\n",
       "</div>"
      ],
      "text/plain": [
       "     Title                                           Synopsis  \\\n",
       "0  VPR2011  Research Practices Advanced is a core unit in ...   \n",
       "1  VCO2304  This elective builds upon the core unit VCO130...   \n",
       "2  FIT3176  This unit will introduce advanced concepts in ...   \n",
       "3  FIT5127  This unit is a research unit common to FIT Mas...   \n",
       "4  EAE3152  The motion of a density-stratified fluid in a ...   \n",
       "\n",
       "                                            Outcomes  \n",
       "0  ['Initiate a broad range of conceptual and ana...  \n",
       "1  ['Effectively use the elements and principles ...  \n",
       "2  ['design a database model from a given scenari...  \n",
       "3  ['design a rigorous Masters level research pro...  \n",
       "4  ['Discuss the physical theory of the motion of...  "
      ]
     },
     "execution_count": 2,
     "metadata": {},
     "output_type": "execute_result"
    }
   ],
   "source": [
    "data = pd.read_excel('C:/Users/Stephy/Documents/Studies/Data Science 2018/Sem 2/Wrangling/Assignment1/James_29915651_Assig1/29915651.xlsx')\n",
    "data.head()"
   ]
  },
  {
   "cell_type": "code",
   "execution_count": 3,
   "metadata": {},
   "outputs": [
    {
     "name": "stdout",
     "output_type": "stream",
     "text": [
      "197\n"
     ]
    }
   ],
   "source": [
    "type(data)\n",
    "\n",
    "#find the number of rows in dataframe\n",
    "data.shape[0] \n",
    "\n",
    "#count of rows in data\n",
    "rowcnt = data.shape[0]\n",
    "\n",
    "#extracting Title\n",
    "Title = data.Title[0:rowcnt]\n",
    "#Ref: https://stackoverflow.com/questions/15112234/how-can-i-convert-a-pandas-dataframe-into-a-list\n",
    "print(len(Title.unique())) #3 duplicated units\n",
    "\n",
    "#extracting Synopsis\n",
    "Synopsis = data.Synopsis[0:rowcnt]\n",
    "synopsis_list = list(Synopsis.values.flatten())\n",
    "\n",
    "#extracting Outcomes\n",
    "Outcomes = data.Outcomes[0:rowcnt]\n",
    "outcome_list = list(Outcomes.values.flatten())\n"
   ]
  },
  {
   "cell_type": "markdown",
   "metadata": {},
   "source": [
    "It can be seen that there are 197 unique unit codes "
   ]
  },
  {
   "cell_type": "markdown",
   "metadata": {},
   "source": [
    "## 4B. Methodology breif\n",
    "\n",
    "1. As okens must be normalized to lowercase except the capital tokens appeared in the middle of a sentence/line, the first step is to convert all the fisrt letter with capital first alphabets to lower case. This is done for both synopsis and outcome.\n",
    "\n",
    "2. In the second step both synopsis and outcome is combined as string corresponding to its unit code.\n",
    "\n",
    "3. The unit detail string composed of unit synopsis and unit outcome is tokenized.\n",
    "\n",
    "4. 200 Bigrams are generated from the tokenized content using PMI measure. \n",
    "\n",
    "5. The bigrams are then added to the unit content and the content is retokenized.\n",
    "\n",
    "6. The context independent stop words (from the stopword_en) are removed from the tokens.\n",
    "\n",
    "7. The context dependent stopwards are removed from the above tokens\n",
    "   It is done in three stages\n",
    "   a. Removal of words appearing in more than 95% document\n",
    "   b. Removal of words appearing in less than 5%document\n",
    "   c. Removal of word with length less than 3\n",
    "   \n",
    "8. Stemming is done using Porter Stem method.\n",
    "\n",
    "9. The vocab file inclusive of bigarms and unigrams is generated in the token_string:integer_index format.\n",
    "\n",
    "10. Sparse represenation of file is created in the format unit_code, token1_index:wordcount, token2_index:wordcount,...\n",
    "\n"
   ]
  },
  {
   "cell_type": "markdown",
   "metadata": {},
   "source": [
    "## 5. Converting the first letter of each sentence to lower case \n",
    "\n",
    "Tokens need to be normalized to lowercase except the capital tokens appearing in the middle of a sentence/line."
   ]
  },
  {
   "cell_type": "code",
   "execution_count": 4,
   "metadata": {},
   "outputs": [],
   "source": [
    "#import nltk.data\n",
    "sent_detector = nltk.data.load('tokenizers/punkt/english.pickle')\n",
    "\n",
    "#the first word of each line/sentence is converted to lower case for synopsis\n",
    "#sent_detector.tokenize from nltk.data is used to extract sentences\n",
    "synopsis_new=[]\n",
    "for i in range (0,rowcnt): \n",
    "    raw_text = str(synopsis_list[i])\n",
    "    sentences = sent_detector.tokenize(raw_text.strip())\n",
    "    #newsent=[]\n",
    "    string = \"\"\n",
    "    for sent in sentences:\n",
    "        first_word=re.match('\\w*\\s?', sent)\n",
    "        #replace first occurance\n",
    "        sent  = sent.replace(first_word[0], first_word[0].lower(), 1)\n",
    "        string = string +\" \"+sent\n",
    "    #print(string)\n",
    "    synopsis_new.append(string)   \n",
    "\n",
    "    "
   ]
  },
  {
   "cell_type": "code",
   "execution_count": 5,
   "metadata": {
    "scrolled": true
   },
   "outputs": [
    {
     "name": "stdout",
     "output_type": "stream",
     "text": [
      "The unit will cover the clinical and non-clinical topics listed below, enabling appropriate management of palliative care patients.\n",
      " the unit will cover the clinical and non-clinical topics listed below, enabling appropriate management of palliative care patients.\n"
     ]
    }
   ],
   "source": [
    "#checking if the new and old synopsis list is the same except for case change of first letter\n",
    "print(synopsis_list[199])\n",
    "print(synopsis_new[199])\n",
    "    "
   ]
  },
  {
   "cell_type": "markdown",
   "metadata": {},
   "source": [
    "The difference in terms of lower case for first letter of a sentence can be observed for synopsis of the last unit "
   ]
  },
  {
   "cell_type": "code",
   "execution_count": 6,
   "metadata": {},
   "outputs": [],
   "source": [
    "#import nltk.data\n",
    "#sent_detector = nltk.data.load('tokenizers/punkt/english.pickle')\n",
    "\n",
    "#the first word of each line/sentence is converted to lower case for outcome\n",
    "#sent_detector.tokenize from nltk.data is used to extract sentences\n",
    "outcome_final =[]\n",
    "outcome_new=[]\n",
    "for i in range (rowcnt): \n",
    "    raw_text = str(outcome_list[i])\n",
    "    sentences = sent_detector.tokenize(raw_text.strip()) \n",
    "    for sent in sentences:\n",
    "        sent = sent.split(\"', '\")\n",
    "        each_line = \"\"\n",
    "        for each in sent:\n",
    "            each = each.replace(\"['\", \"\")\n",
    "            first_word=re.match('\\w*\\s?', each)\n",
    "            #print(each)\n",
    "            each  = each.replace(first_word[0], first_word[0].lower(), 1)\n",
    "            #each = each.strip()\n",
    "            each_line = each_line+\" \"+each\n",
    "            #print(each_line)\n",
    "        outcome_new.append(each_line)\n",
    "        outcome_new1 = ' '.join(outcome_new)\n",
    "        \n",
    "    outcome_final.append(outcome_new1)\n",
    "    outcome_new=[]\n",
    "    "
   ]
  },
  {
   "cell_type": "code",
   "execution_count": 7,
   "metadata": {},
   "outputs": [
    {
     "name": "stdout",
     "output_type": "stream",
     "text": [
      "['Integrate clinical assessments and patient history to develop evidence-based clinical management plans in palliative care.', 'Justify evidence based pharmacological recommendations relating to palliative care to healthcare consumers including patients, family members and multi-disciplinary healthcare professionals.', 'Recognise, monitor, and manage (pharmacologically and\n",
      "non-pharmacologically) symptoms and treatment side-effects common in palliative care.', 'Apply the principles of quality use of medicines in prescribing and de-prescribing in palliative care.', 'Critically reflect on their individual learning process and progress in clinical competence.']\n",
      " integrate clinical assessments and patient history to develop evidence-based clinical management plans in palliative care.   justify evidence based pharmacological recommendations relating to palliative care to healthcare consumers including patients, family members and multi-disciplinary healthcare professionals.   recognise, monitor, and manage (pharmacologically and\n",
      "non-pharmacologically) symptoms and treatment side-effects common in palliative care.   apply the principles of quality use of medicines in prescribing and de-prescribing in palliative care.   critically reflect on their individual learning process and progress in clinical competence.']\n"
     ]
    }
   ],
   "source": [
    "print(outcome_list[199])\n",
    "print(outcome_final[199])"
   ]
  },
  {
   "cell_type": "markdown",
   "metadata": {},
   "source": [
    "The difference in terms of lower case for first letter of a sentence can be observed for outcome fpr the last unit "
   ]
  },
  {
   "cell_type": "markdown",
   "metadata": {},
   "source": [
    "## 6.Combining the outcome and synopsis list with title list"
   ]
  },
  {
   "cell_type": "code",
   "execution_count": 8,
   "metadata": {},
   "outputs": [
    {
     "name": "stdout",
     "output_type": "stream",
     "text": [
      " the unit will cover the clinical and non-clinical topics listed below, enabling appropriate management of palliative care patients.  integrate clinical assessments and patient history to develop evidence-based clinical management plans in palliative care.   justify evidence based pharmacological recommendations relating to palliative care to healthcare consumers including patients, family members and multi-disciplinary healthcare professionals.   recognise, monitor, and manage (pharmacologically and\n",
      "non-pharmacologically) symptoms and treatment side-effects common in palliative care.   apply the principles of quality use of medicines in prescribing and de-prescribing in palliative care.   critically reflect on their individual learning process and progress in clinical competence.']\n"
     ]
    }
   ],
   "source": [
    "#combining the outcome and synopsis list with title list\n",
    "unit_dtl={}\n",
    "\n",
    "for i in range(rowcnt):\n",
    "   \n",
    "    value = str(str(synopsis_new[i]) +\" \"+str(outcome_final[i]))\n",
    "    #key is unit_dtl[data.Title[i]]\n",
    "    unit_dtl[data.Title[i]] = value\n",
    "\n",
    "#checking for one unit\n",
    "print(unit_dtl['PGC5118'])\n",
    "\n",
    "#number of unique units \n",
    "len(unit_dtl.keys())\n",
    "\n",
    "unitcount = len(unit_dtl.keys())\n"
   ]
  },
  {
   "cell_type": "markdown",
   "metadata": {},
   "source": [
    "The example of unit 'PGC5118' is used to explain how the synopsis and outcome of the unit is combined corresponding to it unit code"
   ]
  },
  {
   "cell_type": "markdown",
   "metadata": {},
   "source": [
    "## 7. Tokenize"
   ]
  },
  {
   "cell_type": "code",
   "execution_count": null,
   "metadata": {},
   "outputs": [],
   "source": [
    "#creating a new dictionary with unit names and corresponding tokens\n",
    "#this dictionary will contain the unit id and its corresponding tokens\n",
    "unit_tokens  = {}\n",
    "\n",
    "from nltk.tokenize import RegexpTokenizer \n",
    "#pattern as specified in assignment\n",
    "tokenizer = RegexpTokenizer(r\"\\w+(?:[-']\\w+)?\")\n",
    "\n",
    "for i in range(rowcnt):\n",
    "    #text to be tokenized\n",
    "    raw_text = unit_dtl.get(Title[i])\n",
    "    unit_tokens[Title[i]] = tokenizer.tokenize(raw_text)\n",
    "\n",
    "#checking one unit \n",
    "print(unit_tokens['PGC5118'])\n",
    "\n",
    "#number of unique units \n",
    "len(unit_tokens.keys())"
   ]
  },
  {
   "cell_type": "markdown",
   "metadata": {},
   "source": [
    "From the step before tokenization, one can observe the differnce between tokens and a normal string. Each word is separated as token using tokenizer = RegexpTokenizer(r\"\\w+(?:[-']\\w+)?\") from the RegexpTokenizer function of nltk.tokenize \n",
    "\n",
    "\"RegexpTokenizer splits a string into substrings using a regular expression. For example, the following tokenizer forms tokens out of alphabetic sequences, money expressions, and any other non-whitespace sequences\" - https://www.nltk.org/_modules/nltk/tokenize/regexp.html\n",
    "\n"
   ]
  },
  {
   "cell_type": "code",
   "execution_count": 10,
   "metadata": {},
   "outputs": [
    {
     "name": "stdout",
     "output_type": "stream",
     "text": [
      "Unit id\t\tTokens#\n",
      "VPR2011 \t 186\n",
      "VCO2304 \t 126\n",
      "FIT3176 \t 55\n",
      "FIT5127 \t 69\n",
      "EAE3152 \t 65\n"
     ]
    }
   ],
   "source": [
    "print(\"Unit id\"+\"\\t\\t\"+\"Tokens#\")\n",
    "\n",
    "for i in range(0,5):\n",
    "    tokens=len(set(unit_tokens[Title[i]]))\n",
    "    tokens_flg=0\n",
    "    tokens_flg = tokens_flg+tokens\n",
    "    print(Title[i],\"\\t\" ,tokens_flg)\n"
   ]
  },
  {
   "cell_type": "markdown",
   "metadata": {},
   "source": [
    "The number of tokens corresponding to few units is mentioned"
   ]
  },
  {
   "cell_type": "code",
   "execution_count": 11,
   "metadata": {},
   "outputs": [
    {
     "name": "stdout",
     "output_type": "stream",
     "text": [
      "Vocabulary size:  4098 \n",
      "Total number of tokens:  31470 \n",
      "Lexical diversity:  7.679355783308931\n"
     ]
    }
   ],
   "source": [
    "#Ref: Exploring Pre-Processed text and Generating Features Tutorial\n",
    "\n",
    "#The words and vocab checked\n",
    "words = list(chain.from_iterable(unit_tokens.values()))\n",
    "vocab = set(words)\n",
    "lexical_diversity = len(words)/len(vocab)\n",
    "print (\"Vocabulary size: \",len(vocab),\"\\nTotal number of tokens: \", len(words), \\\n",
    "\"\\nLexical diversity: \", lexical_diversity)\n"
   ]
  },
  {
   "cell_type": "markdown",
   "metadata": {},
   "source": [
    "## 8.  Generating the 200 bigram collocations using PMI measure\n",
    "The next step is go generate the bigram collocations, given the tokenized unit information.\n",
    "\n",
    "The function BigramCollocationFinder.from_words() (NLTK Project, 2015) generate pairs of words that occur together. The apply_ngram_filter() (NLTK Project, 2015) is used to ensure no two stop words occur together.\n",
    "Additionally, bigrams can be filtered by their frequency using apply_freq_filter.\n",
    "\n",
    "PMI association measures the likelihood of two words occurring together given individual distributions in the corpus (Bouma, 2009).Lowering the frequency removes these obscure stop word pairs and by also using the PMI filter, new meaningful pairs with high scores can climb to the top results. \n",
    "\n",
    "In this case, bigrams with less than 3 occurrences and word length less than 3 are filtered while applying PMI at the same time.\n",
    "\n",
    "Reference for BigramCollocationFinder and PMI explanation: example_code_quality_comment_1 tutorial\n",
    "\n",
    "Steps:\n",
    "\n",
    "Step1:For this all the tokenized unit details are concatenated using the chain.frome_iterable function. A list containing a list of all the words seprated by while space is returned."
   ]
  },
  {
   "cell_type": "code",
   "execution_count": 12,
   "metadata": {},
   "outputs": [
    {
     "name": "stdout",
     "output_type": "stream",
     "text": [
      "['research', 'Practices', 'Advanced', 'is', 'a', 'core', 'unit', 'in', 'the', 'Visual']\n"
     ]
    }
   ],
   "source": [
    "from itertools import chain\n",
    "all_words = list(chain.from_iterable(unit_tokens.values()))\n",
    "print(all_words[0:10])"
   ]
  },
  {
   "cell_type": "markdown",
   "metadata": {},
   "source": [
    "Ref: http://www.nltk.org/howto/collocations.html\n",
    "\n",
    "Step2: Generate the 200 bigram cllocations using\n",
    "* BigramAssocMeasures()\n",
    "* BigramCollocationFinder.from_words()\n",
    "* apply_freq_filter(20)\n",
    "* apply_word_filter(lambda w: len(w) < 3)\n",
    "* nbest(bigram_measures.pmi, 100)"
   ]
  },
  {
   "cell_type": "code",
   "execution_count": 13,
   "metadata": {},
   "outputs": [
    {
     "data": {
      "text/plain": [
       "[('Daily', 'Living'),\n",
       " ('Living', 'Technologies'),\n",
       " ('Mobility', 'Augmentative'),\n",
       " ('New', 'Kingdom'),\n",
       " ('Organisational', 'Behaviour'),\n",
       " ('Positioning', 'Mobility'),\n",
       " ('bones', 'girdles'),\n",
       " ('digestive', 'urinary'),\n",
       " ('segmentation', 'targeting'),\n",
       " ('Alternative', 'Communication'),\n",
       " ('International', 'Relations'),\n",
       " ('travel', 'demand'),\n",
       " ('confidence', 'intervals'),\n",
       " ('Assistive', 'Technology'),\n",
       " ('Social', 'Workers'),\n",
       " ('Technology', 'Access'),\n",
       " ('long', 'bones'),\n",
       " ('lower', 'digestive'),\n",
       " ('lower', 'respiratory'),\n",
       " ('criminal', 'justice'),\n",
       " ('Additive', 'Manufacturing'),\n",
       " ('taxable', 'income'),\n",
       " ('additive', 'manufacturing'),\n",
       " ('lobby', 'groups'),\n",
       " ('metal', 'complexes'),\n",
       " ('gene', 'expression'),\n",
       " ('Information', 'Systems'),\n",
       " ('radiographic', 'images'),\n",
       " ('debt', 'instruments'),\n",
       " ('businesses', 'operating'),\n",
       " ('twentieth', 'century'),\n",
       " ('random', 'variables'),\n",
       " ('controlling', 'chosen'),\n",
       " ('South', 'African'),\n",
       " ('ideological', 'critiques'),\n",
       " ('pressure', 'injuries'),\n",
       " ('21st', 'century'),\n",
       " ('pressure', 'injury'),\n",
       " ('biological', 'hazards'),\n",
       " ('female', 'reproductive'),\n",
       " ('printed', 'part'),\n",
       " ('successful', 'completion'),\n",
       " ('Islamic', 'finance'),\n",
       " ('market', 'efficiency'),\n",
       " ('welfare', 'state'),\n",
       " ('community-based', 'emergency'),\n",
       " ('asset', 'pricing'),\n",
       " ('digital', 'humanities'),\n",
       " ('video', 'journalism'),\n",
       " ('current', 'affairs'),\n",
       " ('family', 'violence'),\n",
       " ('has', 'been'),\n",
       " ('service', 'delivery'),\n",
       " ('ART', 'laboratory'),\n",
       " ('polymeric', 'materials'),\n",
       " ('statistical', 'inference'),\n",
       " ('road', 'users'),\n",
       " ('relationship', 'breakdown'),\n",
       " ('Egyptian', 'culture'),\n",
       " ('custodial', 'setting'),\n",
       " ('activities', 'dealing'),\n",
       " ('consumer', 'behaviour'),\n",
       " ('decision', 'making'),\n",
       " ('chamber', 'music'),\n",
       " ('problem', 'solving'),\n",
       " ('performance', 'measurement'),\n",
       " ('food', 'security'),\n",
       " ('radiation', 'therapy'),\n",
       " ('urban', 'water'),\n",
       " ('interior', 'architecture'),\n",
       " ('aerospace', 'industry'),\n",
       " ('quality', 'improvement'),\n",
       " ('employ', 'occupational'),\n",
       " ('public', 'sector'),\n",
       " ('mass', 'media'),\n",
       " ('radiation', 'oncology'),\n",
       " ('women', 'during'),\n",
       " ('most', 'common'),\n",
       " ('individual', 'summative'),\n",
       " ('mix', 'elements'),\n",
       " ('own', 'capabilities'),\n",
       " ('welfare', 'trends'),\n",
       " ('real', 'world'),\n",
       " ('road', 'network'),\n",
       " ('corporate', 'finance'),\n",
       " ('positioning', 'strategy'),\n",
       " ('software', 'packages'),\n",
       " ('credit', 'risk'),\n",
       " ('digital', 'audio'),\n",
       " ('marketing', 'mix'),\n",
       " ('academic', 'staff'),\n",
       " ('trauma', 'context'),\n",
       " ('literary', 'texts'),\n",
       " ('assessment', 'task'),\n",
       " ('summative', 'assessment'),\n",
       " ('assistive', 'technology'),\n",
       " ('analytical', 'technique'),\n",
       " ('team', 'building'),\n",
       " ('link', 'between'),\n",
       " ('financial', 'disputes'),\n",
       " ('group', 'activities'),\n",
       " ('innovative', 'solutions'),\n",
       " ('dividend', 'policy'),\n",
       " ('case', 'studies'),\n",
       " ('insurance', 'law'),\n",
       " ('insights', 'into'),\n",
       " ('high', 'level'),\n",
       " ('distinguish', 'between'),\n",
       " ('capital', 'structure'),\n",
       " ('popular', 'music'),\n",
       " ('human', 'rights'),\n",
       " ('video', 'production'),\n",
       " ('food', 'product'),\n",
       " ('component', 'technologies'),\n",
       " ('analytical', 'method'),\n",
       " ('childhood', 'problems'),\n",
       " ('source', 'relevant'),\n",
       " ('professional', 'standards'),\n",
       " ('semi-structured', 'data'),\n",
       " ('palliative', 'care'),\n",
       " ('youth', 'care'),\n",
       " ('world', 'politics'),\n",
       " ('topics', 'covered'),\n",
       " ('drawn', 'from'),\n",
       " ('thinking', 'problem'),\n",
       " ('digital', 'spatial'),\n",
       " ('screen', 'practices'),\n",
       " ('particular', 'cases'),\n",
       " ('international', 'relations'),\n",
       " ('pricing', 'models'),\n",
       " ('computer', 'science'),\n",
       " ('environmental', 'sustainability'),\n",
       " ('methodological', 'approaches'),\n",
       " ('critical', 'dialogue'),\n",
       " ('further', 'developed'),\n",
       " ('assessment', 'tasks'),\n",
       " ('particular', 'reference'),\n",
       " ('financial', 'decisions'),\n",
       " ('data', 'collection'),\n",
       " ('wide', 'range'),\n",
       " ('mobile', 'applications'),\n",
       " ('global', 'welfare'),\n",
       " ('probability', 'theory'),\n",
       " ('statutory', 'principles'),\n",
       " ('data', 'handling'),\n",
       " ('global', 'politics'),\n",
       " ('clinical', 'reasoning'),\n",
       " ('communicate', 'effectively'),\n",
       " ('solve', 'problems'),\n",
       " ('taxation', 'law'),\n",
       " ('relationship', 'between'),\n",
       " ('subject', 'area'),\n",
       " ('fashion', 'theory'),\n",
       " ('finance', 'law'),\n",
       " ('have', 'been'),\n",
       " ('different', 'kinds'),\n",
       " ('critical', 'thinking'),\n",
       " ('that', 'underpin'),\n",
       " ('marketing', 'strategy'),\n",
       " ('common', 'law'),\n",
       " ('covered', 'include'),\n",
       " ('evidence', 'based'),\n",
       " ('broad', 'range'),\n",
       " ('road', 'system'),\n",
       " ('are', 'encouraged'),\n",
       " ('material', 'properties'),\n",
       " ('scientific', 'report'),\n",
       " ('chosen', 'marketing'),\n",
       " ('Australian', 'art'),\n",
       " ('spatial', 'data'),\n",
       " ('accounting', 'information'),\n",
       " ('reflect', 'upon'),\n",
       " ('mental', 'health'),\n",
       " ('topics', 'include'),\n",
       " ('comprehensive', 'understanding'),\n",
       " ('software', 'applications'),\n",
       " ('contemporary', 'discourse'),\n",
       " ('differentiate', 'between'),\n",
       " ('water', 'resources'),\n",
       " ('occupational', 'health'),\n",
       " ('safety', 'appropriate'),\n",
       " ('risk', 'factors'),\n",
       " ('oral', 'presentation'),\n",
       " ('particular', 'focus'),\n",
       " ('visual', 'art'),\n",
       " ('occupational', 'therapy'),\n",
       " ('structural', 'system'),\n",
       " ('discourse', 'analysis'),\n",
       " ('between', 'local'),\n",
       " ('market', 'information'),\n",
       " ('portfolio', 'theory'),\n",
       " ('financial', 'planning'),\n",
       " ('health', 'consumers'),\n",
       " ('but', 'also'),\n",
       " ('radiation', 'safety'),\n",
       " ('that', 'affect'),\n",
       " ('impact', 'upon'),\n",
       " ('management', 'accounting'),\n",
       " ('different', 'types'),\n",
       " ('risk', 'modelling')]"
      ]
     },
     "execution_count": 13,
     "metadata": {},
     "output_type": "execute_result"
    }
   ],
   "source": [
    "#Ref: tutorial_05_answer\n",
    "    \n",
    "bigram_measures = nltk.collocations.BigramAssocMeasures()\n",
    "bigram_finder = nltk.collocations.BigramCollocationFinder.from_words(all_words)\n",
    "#ignoring all bigrams which occur less than three times \n",
    "bigram_finder.apply_freq_filter(3)\n",
    "#ignoring words which are less than 3 character in length to remove bigrams like ('n', 'nStudents')\n",
    "bigram_finder.apply_word_filter(lambda w: len(w) < 3)\n",
    "top_200_bigrams = bigram_finder.nbest(bigram_measures.pmi, 200) # Top-200 bigrams\n",
    "top_200_bigrams"
   ]
  },
  {
   "cell_type": "markdown",
   "metadata": {},
   "source": [
    "The example of bigrams are mentioned in the above output.\n",
    "It is worthwhile to mention again that only meaningful bigrams have been connsidered by removing bigrams that occur less than 3 times and by removing bigrams with word length less than 3 ."
   ]
  },
  {
   "cell_type": "markdown",
   "metadata": {},
   "source": [
    "## 9. Re-tokenizing the unit details post finding bigrams\n",
    "In Section 7 the tokenization was done with only unigrams. \n",
    "In this steps the 200 meaningful bigrams are also introduced into the text to tokenzie with the bigrams\n",
    "The tokenizer used is MWEtokenizer.\n",
    "\n",
    "\"MWETokenizer takes a string which has already been divided into tokens and retokenizes it, merging multi-word expressions into single tokens, using a lexicon of MWEs\"\n",
    "Ref https://www.nltk.org/_modules/nltk/tokenize/mwe.html\n"
   ]
  },
  {
   "cell_type": "code",
   "execution_count": 14,
   "metadata": {},
   "outputs": [
    {
     "name": "stdout",
     "output_type": "stream",
     "text": [
      "['the', 'unit', 'will', 'cover', 'the', 'clinical', 'and', 'non-clinical', 'topics', 'listed', 'below', 'enabling', 'appropriate', 'management', 'of', 'palliative', 'care', 'patients', 'integrate', 'clinical', 'assessments', 'and', 'patient', 'history', 'to', 'develop', 'evidence-based', 'clinical', 'management', 'plans', 'in', 'palliative', 'care', 'justify', 'evidence', 'based', 'pharmacological', 'recommendations', 'relating', 'to', 'palliative', 'care', 'to', 'healthcare', 'consumers', 'including', 'patients', 'family', 'members', 'and', 'multi-disciplinary', 'healthcare', 'professionals', 'recognise', 'monitor', 'and', 'manage', 'pharmacologically', 'and', 'non-pharmacologically', 'symptoms', 'and', 'treatment', 'side-effects', 'common', 'in', 'palliative', 'care', 'apply', 'the', 'principles', 'of', 'quality', 'use', 'of', 'medicines', 'in', 'prescribing', 'and', 'de-prescribing', 'in', 'palliative', 'care', 'critically', 'reflect', 'on', 'their', 'individual', 'learning', 'process', 'and', 'progress', 'in', 'clinical', 'competence']\n",
      "['the', 'unit', 'will', 'cover', 'the', 'clinical', 'and', 'non-clinical', 'topics', 'listed', 'below', 'enabling', 'appropriate', 'management', 'of', 'palliative_care', 'patients', 'integrate', 'clinical', 'assessments', 'and', 'patient', 'history', 'to', 'develop', 'evidence-based', 'clinical', 'management', 'plans', 'in', 'palliative_care', 'justify', 'evidence_based', 'pharmacological', 'recommendations', 'relating', 'to', 'palliative_care', 'to', 'healthcare', 'consumers', 'including', 'patients', 'family', 'members', 'and', 'multi-disciplinary', 'healthcare', 'professionals', 'recognise', 'monitor', 'and', 'manage', 'pharmacologically', 'and', 'non-pharmacologically', 'symptoms', 'and', 'treatment', 'side-effects', 'common', 'in', 'palliative_care', 'apply', 'the', 'principles', 'of', 'quality', 'use', 'of', 'medicines', 'in', 'prescribing', 'and', 'de-prescribing', 'in', 'palliative_care', 'critically', 'reflect', 'on', 'their', 'individual', 'learning', 'process', 'and', 'progress', 'in', 'clinical', 'competence']\n"
     ]
    }
   ],
   "source": [
    "#unit id with corresponding tokens inclusive of bigrams\n",
    "colloc_unit = {}\n",
    "\n",
    "from nltk.tokenize import MWETokenizer\n",
    "\n",
    "mwetokenizer = MWETokenizer(top_200_bigrams)\n",
    "colloc_unit =  dict((unit_id, mwetokenizer.tokenize(unit_content)) for unit_id,unit_content in unit_tokens.items())\n",
    "\n",
    "print(unit_tokens['PGC5118'])\n",
    "print(colloc_unit['PGC5118'])\n"
   ]
  },
  {
   "cell_type": "markdown",
   "metadata": {},
   "source": [
    "The example of unit PGC5118 shows the difference between tokens wthout bigrams and with bigrams. Consider the words 'palliative', 'care' in the intianl list tokens. It has been changed to palliative_care post including bigrams."
   ]
  },
  {
   "cell_type": "code",
   "execution_count": 15,
   "metadata": {},
   "outputs": [
    {
     "name": "stdout",
     "output_type": "stream",
     "text": [
      "Unit id\t\tTokens(including bigarms)#\n",
      "VPR2011 \t 184\n",
      "VCO2304 \t 123\n",
      "FIT3176 \t 55\n",
      "FIT5127 \t 67\n",
      "EAE3152 \t 64\n"
     ]
    }
   ],
   "source": [
    "print(\"Unit id\"+\"\\t\\t\"+\"Tokens(including bigarms)#\")\n",
    "\n",
    "for i in range(0,5):\n",
    "    tokens=len(set(colloc_unit[Title[i]]))\n",
    "    tokens_flg = 0\n",
    "    tokens_flg = tokens_flg+tokens\n",
    "    print(Title[i],\"\\t\" ,tokens_flg)"
   ]
  },
  {
   "cell_type": "code",
   "execution_count": 16,
   "metadata": {},
   "outputs": [
    {
     "name": "stdout",
     "output_type": "stream",
     "text": [
      "Vocabulary size with bigram:  4242 \n",
      "Total number of tokens (with bigram):  30563\n"
     ]
    }
   ],
   "source": [
    "word_with_bigram = list(chain.from_iterable(colloc_unit.values()))\n",
    "vocab_with_bigram = list(set(word_with_bigram))\n",
    "lexical_diversity = len(word_with_bigram)/len(word_with_bigram)\n",
    "print (\"Vocabulary size with bigram: \",len(vocab_with_bigram),\"\\nTotal number of tokens (with bigram): \", len(word_with_bigram))"
   ]
  },
  {
   "cell_type": "markdown",
   "metadata": {},
   "source": [
    "The vocabulary size had increased, post inclusion of bigrams though the number of token has decreased to 30563"
   ]
  },
  {
   "cell_type": "markdown",
   "metadata": {},
   "source": [
    "## 10. Stop Words Removal\n",
    "\n",
    "Stop words carry little meaning with respect to text content; they are mostly supporting words such as articles, pronouns, etc.\n",
    "The context-independent and context-dependent (with the threshold set to %95) stop words need to be removed from the vocab.\n",
    "The stop words list (i.e, stopwords_en.txt) provided as per assignment guidelines is used.\n",
    "\n",
    "### 10A. Removing context independent words\n",
    "All the stopwords in the stopword file are context independent hence they are removed\n"
   ]
  },
  {
   "cell_type": "code",
   "execution_count": 17,
   "metadata": {},
   "outputs": [
    {
     "name": "stdout",
     "output_type": "stream",
     "text": [
      "a\n",
      "a's\n",
      "able\n",
      "3588\n"
     ]
    }
   ],
   "source": [
    "stopwordfile = open(\"C:/Users/Stephy/Documents/Studies/Data Science 2018/Sem 2/Wrangling/Assignment1/James_29915651_Assig1/stopwords_en.txt\",'r')\n",
    "stopwords = stopwordfile.read()\n",
    "stopwordfile.close()\n",
    "\n",
    "print(stopwords[0:10])\n",
    "\n",
    "print(len(stopwords))\n"
   ]
  },
  {
   "cell_type": "code",
   "execution_count": 18,
   "metadata": {},
   "outputs": [],
   "source": [
    "#Removing stop words \n",
    "#From retokined dict (colloc_unit) in which bigrams have been included \n",
    "#For each word in unit_dtl value, keep the word if the word is not in the stopwordsSet\n",
    "unit_dtl_rsw = {}  \n",
    "for i in range(len(Title)):\n",
    "    unit_dtl_rsw[Title[i]] = [w for w in colloc_unit[Title[i]] if w not in stopwords]"
   ]
  },
  {
   "cell_type": "code",
   "execution_count": 19,
   "metadata": {},
   "outputs": [
    {
     "name": "stdout",
     "output_type": "stream",
     "text": [
      "Vocabulary size after removing stop words:  3958 \n",
      "Total number of tokens after removing stop words:  17810\n"
     ]
    }
   ],
   "source": [
    "words_rm_sw = list(chain.from_iterable(unit_dtl_rsw.values()))\n",
    "vocab_rm = set(words_rm_sw)\n",
    "print (\"Vocabulary size after removing stop words: \",len(vocab_rm),\"\\nTotal number of tokens after removing stop words: \", len(words_rm_sw))\n"
   ]
  },
  {
   "cell_type": "code",
   "execution_count": 43,
   "metadata": {},
   "outputs": [
    {
     "name": "stdout",
     "output_type": "stream",
     "text": [
      "Initial Vocab from unit content: 4098\n",
      "Vocab before removing stopwords(inclusive of bigrams): 4242\n",
      "Vocab after removing stopwords: 3958\n"
     ]
    }
   ],
   "source": [
    "print(\"Initial Vocab from unit content:\",len(vocab))\n",
    "print(\"Vocab before removing stopwords(inclusive of bigrams):\",len(vocab_with_bigram))\n",
    "print(\"Vocab after removing stopwords:\",len(vocab_rm))"
   ]
  },
  {
   "cell_type": "markdown",
   "metadata": {},
   "source": [
    "## 10B.Removing context dependent words\n",
    "\n",
    "The context-dependent (with the threshold set to %95) of the document frequency needs to be removed. \n",
    "\n",
    "\"The FreqDist class is used to encode “frequency distributions”, which count the number of times that each outcome of an experiment occurs\"\n",
    "Ref http://www.nltk.org/api/nltk.html?highlight=freqdist"
   ]
  },
  {
   "cell_type": "code",
   "execution_count": 44,
   "metadata": {},
   "outputs": [
    {
     "data": {
      "text/plain": [
       "[('unit', 268),\n",
       " ('students', 220),\n",
       " ('research', 200),\n",
       " ('design', 168),\n",
       " ('skills', 149),\n",
       " ('practice', 134),\n",
       " ('apply', 129),\n",
       " ('develop', 113),\n",
       " ('management', 111),\n",
       " ('demonstrate', 108)]"
      ]
     },
     "execution_count": 44,
     "metadata": {},
     "output_type": "execute_result"
    }
   ],
   "source": [
    "#Exploring common words\n",
    "from nltk.probability import *\n",
    "fd_1 = FreqDist(words_rm_sw)\n",
    "fd_1.most_common(10)"
   ]
  },
  {
   "cell_type": "markdown",
   "metadata": {},
   "source": [
    "The frequencies of the 25 most common word in among all units is plotted "
   ]
  },
  {
   "cell_type": "code",
   "execution_count": 39,
   "metadata": {
    "scrolled": true
   },
   "outputs": [
    {
     "data": {
      "image/png": "[encoded data removed]",
      "text/plain": [
       "<Figure size 432x288 with 1 Axes>"
      ]
     },
     "metadata": {},
     "output_type": "display_data"
    }
   ],
   "source": [
    "fd_1.plot(25, cumulative=False)"
   ]
  },
  {
   "cell_type": "markdown",
   "metadata": {},
   "source": [
    "The most frequent words in terms of document frequency needs to be calculated. \n",
    "The count of how many document a word appears in is calculated, this is referred to as document frequency\n",
    "FreqDist() jointly with set() is used for this purpose. \n",
    "\n",
    "1.Applying set() to each unit content to generate a set of unique words in a particular unit.\n",
    "The step is useful as it makes each word in a unit's content count only once\n",
    "\n",
    "2.The sets are then flattened using chain.from_iterable \n",
    "\n",
    "3.The list is passed through FreqDist\n",
    "The count of word from the list is equal to the number of documents containing that word\n",
    "\n"
   ]
  },
  {
   "cell_type": "code",
   "execution_count": 23,
   "metadata": {},
   "outputs": [
    {
     "data": {
      "text/plain": [
       "[('unit', 164),\n",
       " ('students', 113),\n",
       " ('skills', 89),\n",
       " ('apply', 87),\n",
       " ('analyse', 74),\n",
       " ('develop', 70),\n",
       " ('demonstrate', 70),\n",
       " ('evaluate', 70),\n",
       " ('identify', 67),\n",
       " ('knowledge', 65)]"
      ]
     },
     "execution_count": 23,
     "metadata": {},
     "output_type": "execute_result"
    }
   ],
   "source": [
    "#Applying set() to each unit content to generate a set of unique words in a particular unit \n",
    "#and save all sets in a list\n",
    "\n",
    "uniq_in_unit = list(chain.from_iterable([set(value) for value in unit_dtl_rsw.values()]))\n",
    "fd_2 = FreqDist(uniq_in_unit)\n",
    "fd_2.most_common(10)\n",
    "\n"
   ]
  },
  {
   "cell_type": "markdown",
   "metadata": {},
   "source": [
    "It can be concluded that the word 'unit' appears across 164 units, 'students' across 113 units and so on.\n",
    "Now the words appearing in more than 95% of the units need to be removed"
   ]
  },
  {
   "cell_type": "code",
   "execution_count": 40,
   "metadata": {},
   "outputs": [
    {
     "name": "stdout",
     "output_type": "stream",
     "text": [
      "190.0\n",
      "[]\n"
     ]
    }
   ],
   "source": [
    "#removing words that repeat in more than 95% of the documents\n",
    "#maximun number of words unique in the documment = 3958\n",
    "#all words with frequency\n",
    "word_list = list(fd_2.most_common(3958))\n",
    "\n",
    "#95% of the document size:\n",
    "upper_limit = .95*rowcnt\n",
    "print(upper_limit)\n",
    "\n",
    "#making a list of words appearing in more that 95% document to use as stop words\n",
    "upper_words=[]\n",
    "for word in word_list:\n",
    "    if word[1]>upper_limit:\n",
    "        upper_words.append(word[0])\n",
    "\n",
    "print(upper_words)        \n",
    "\n",
    "upper_removed={}\n",
    "for i in range(rowcnt):\n",
    "    upper_removed[Title[i]]= [w for w in unit_dtl_rsw[Title[i]] if w not in upper_words]"
   ]
  },
  {
   "cell_type": "code",
   "execution_count": 41,
   "metadata": {},
   "outputs": [
    {
     "name": "stdout",
     "output_type": "stream",
     "text": [
      "Vocabulary size after removing words appearing in more than 95% documents:  3958 \n",
      "Total number of tokens after removing words appearing in more than 95% documents :  17810\n"
     ]
    }
   ],
   "source": [
    "words_upp_rm = list(chain.from_iterable(upper_removed.values()))\n",
    "vocab_upp_rm = set(words_upp_rm)\n",
    "print (\"Vocabulary size after removing words appearing in more than 95% documents: \",len(vocab_upp_rm),\"\\nTotal number of tokens after removing words appearing in more than 95% documents : \", len(words_upp_rm))\n"
   ]
  },
  {
   "cell_type": "markdown",
   "metadata": {},
   "source": [
    "## 10C. Removing rare tokens (with the threshold set to %5) from the vocab."
   ]
  },
  {
   "cell_type": "code",
   "execution_count": 45,
   "metadata": {},
   "outputs": [
    {
     "name": "stdout",
     "output_type": "stream",
     "text": [
      "10.0\n",
      "['aim', 'develops', 'making', 'create', 'acquired', 'relationship_between', 'introduce', 'reference', 'important', 'influence']\n"
     ]
    }
   ],
   "source": [
    "#5% of the document size:\n",
    "lower_limit = .05*rowcnt\n",
    "print(lower_limit)\n",
    "\n",
    "\n",
    "#making a list of words appearing in less that 5% document to use as stop words\n",
    "lower_words=[]\n",
    "for word in word_list:\n",
    "    if word[1]<lower_limit:\n",
    "        lower_words.append(word[0])\n",
    "        \n",
    "print(lower_words[0:10])\n",
    "        \n",
    "lower_removed={}\n",
    "for i in range(rowcnt):\n",
    "    lower_removed[Title[i]]= [w for w in upper_removed[Title[i]] if w not in lower_words]"
   ]
  },
  {
   "cell_type": "markdown",
   "metadata": {},
   "source": [
    "The number of tokens apprearing in less than 5% documents is very large"
   ]
  },
  {
   "cell_type": "code",
   "execution_count": 46,
   "metadata": {},
   "outputs": [
    {
     "name": "stdout",
     "output_type": "stream",
     "text": [
      "Vocabulary size after removing words appearing in less than 5% documents:  261 \n",
      "Total number of tokens after removing words appearing in less than 5% documents :  8302\n"
     ]
    }
   ],
   "source": [
    "words_low_rm = list(chain.from_iterable(lower_removed.values()))\n",
    "vocab_low_rm = set(words_low_rm)\n",
    "print (\"Vocabulary size after removing words appearing in less than 5% documents: \",len(vocab_low_rm),\n",
    "       \"\\nTotal number of tokens after removing words appearing in less than 5% documents : \", len(words_low_rm))\n"
   ]
  },
  {
   "cell_type": "code",
   "execution_count": 28,
   "metadata": {},
   "outputs": [],
   "source": [
    "## 10D. Removing tokens with the length less than 3 from the vocab"
   ]
  },
  {
   "cell_type": "code",
   "execution_count": 29,
   "metadata": {},
   "outputs": [
    {
     "name": "stdout",
     "output_type": "stream",
     "text": [
      "['2', 'IT', '3D', '1', '3', 'CT', 'AM', 'A', 'E', 'R', 'OS', 'NH', 'TV', '8', 'LF', '15', '20', 'B', '3B', '3A', '3d', '70', 'I', 'II', 'nb', '4', 'A2', 'pH', 'OD']\n"
     ]
    }
   ],
   "source": [
    "\n",
    "#making a list of words appearing in less that 5% document to use as stop words\n",
    "small_words=[]\n",
    "for word in word_list:\n",
    "    if len(word[0])<3:\n",
    "        small_words.append(word[0])\n",
    "        \n",
    "print(small_words)\n",
    "        \n",
    "small_removed={}\n",
    "for i in range(rowcnt):\n",
    "    small_removed[Title[i]]= [w for w in lower_removed[Title[i]] if w not in small_words]"
   ]
  },
  {
   "cell_type": "code",
   "execution_count": 30,
   "metadata": {},
   "outputs": [
    {
     "name": "stdout",
     "output_type": "stream",
     "text": [
      "Vocabulary size after removing words appearing in less than 5% documents:  261 \n",
      "Total number of tokens after removing words appearing in less than 5% documents :  8302\n"
     ]
    }
   ],
   "source": [
    "words_sml_rm = list(chain.from_iterable(small_removed.values()))\n",
    "vocab_sml_rm = set(words_sml_rm)\n",
    "print (\"Vocabulary size after removing words appearing in less than 5% documents: \",len(vocab_sml_rm),\n",
    "       \"\\nTotal number of tokens after removing words appearing in less than 5% documents : \", len(words_sml_rm))\n"
   ]
  },
  {
   "cell_type": "markdown",
   "metadata": {},
   "source": [
    "## 11.Stemming using the Porter stemmer\n",
    "\n",
    "Stemming helps to reduce the same word in different lexical forms to its base form. For example verbs are written in the various tenses but the base word remains same. The same applies to nouns, adjectives or any other form of word. \n",
    "\n",
    "The bigrams have been included in the text so as to preserve meaning, hence it is desired to keep the bigram in its original state\n",
    "\n"
   ]
  },
  {
   "cell_type": "code",
   "execution_count": 47,
   "metadata": {},
   "outputs": [],
   "source": [
    "#Creating a list of bigrams so that the words can be excluded from stemming\n",
    "bigrams_words=[]\n",
    "\n",
    "#bigram list\n",
    "top_200_bigrams\n",
    "\n",
    "#length of bigram list\n",
    "x = len(top_200_bigrams)\n",
    "\n",
    "#converting bigram to the same format as in the token list\n",
    "for i in range(x):\n",
    "    bigrams_words.append(top_200_bigrams[i][0]+\"_\"+top_200_bigrams[i][1])\n",
    "\n",
    "\n",
    "#dictionary of bigrams with corresponding units\n",
    "bigrams={}\n",
    "for i in range(rowcnt):\n",
    "    bigrams[Title[i]]= [w for w in small_removed[Title[i]] if w in bigrams_words]\n",
    "\n",
    "#dictionary of tokens with corresponding units, without bigrams\n",
    "#used to stem\n",
    "bigrams_removed={}\n",
    "for i in range(rowcnt):\n",
    "    bigrams_removed[Title[i]]= [w for w in small_removed[Title[i]] if w not in bigrams_words]\n",
    "\n"
   ]
  },
  {
   "cell_type": "code",
   "execution_count": 32,
   "metadata": {},
   "outputs": [
    {
     "data": {
      "text/plain": [
       "['unit',\n",
       " 'clinic',\n",
       " 'topic',\n",
       " 'manag',\n",
       " 'integr',\n",
       " 'clinic',\n",
       " 'patient',\n",
       " 'histori',\n",
       " 'develop',\n",
       " 'clinic',\n",
       " 'manag',\n",
       " 'relat',\n",
       " 'includ',\n",
       " 'recognis',\n",
       " 'manag',\n",
       " 'treatment',\n",
       " 'common',\n",
       " 'appli',\n",
       " 'principl',\n",
       " 'qualiti',\n",
       " 'critic',\n",
       " 'reflect',\n",
       " 'individu',\n",
       " 'learn',\n",
       " 'process',\n",
       " 'clinic']"
      ]
     },
     "execution_count": 32,
     "metadata": {},
     "output_type": "execute_result"
    }
   ],
   "source": [
    "#importing coresponding modules\n",
    "from nltk.stem import PorterStemmer\n",
    "stemmer = PorterStemmer()\n",
    "final_tokens ={}\n",
    "\n",
    "#stemming tokens for corresponding units\n",
    "for i in range(rowcnt):\n",
    "    stemmed_tokens=[]\n",
    "    for tokens in bigrams_removed[Title[i]]:\n",
    "        stemmed_tokens.append(stemmer.stem(tokens))\n",
    "    final_tokens[Title[i]]=stemmed_tokens\n",
    "\n",
    "\n",
    "final_tokens['PGC5118']\n",
    "                              "
   ]
  },
  {
   "cell_type": "markdown",
   "metadata": {},
   "source": [
    "The final token in PGC5118 has significantly decreased, post all the opeartions"
   ]
  },
  {
   "cell_type": "code",
   "execution_count": 33,
   "metadata": {},
   "outputs": [],
   "source": [
    "#adding the bigrams back to the stemmed results\n",
    "for i in range(rowcnt):\n",
    "    final_tokens[Title[i]] = final_tokens[Title[i]]+bigrams[Title[i]]\n"
   ]
  },
  {
   "cell_type": "code",
   "execution_count": 34,
   "metadata": {},
   "outputs": [
    {
     "data": {
      "text/plain": [
       "197"
      ]
     },
     "execution_count": 34,
     "metadata": {},
     "output_type": "execute_result"
    }
   ],
   "source": [
    "len(final_tokens.values())"
   ]
  },
  {
   "cell_type": "markdown",
   "metadata": {},
   "source": [
    "## 12. Vocab text preparation in the token_string:integer_index format\n",
    "\n",
    "The words in the vocabulary needs to be sorted alphabetically and the unigrams and bigrams need to represented in token_string:integer_index format.\n"
   ]
  },
  {
   "cell_type": "code",
   "execution_count": 35,
   "metadata": {},
   "outputs": [],
   "source": [
    "#creating vocab file\n",
    "vocab_file = open(\"29915651_vocab.txt\",'w')\n",
    "\n",
    "#creating list of all the final tokens post duplicate removal and sorting\n",
    "all_final_tokens= sorted(list(set(list(chain.from_iterable(final_tokens.values())))))\n",
    "\n",
    "#saving into file as token_string:integer_index\n",
    "i = 0\n",
    "for token in all_final_tokens:\n",
    "    vocab_file.write((token)+\":\"+str(i)+\"\\n\")\n",
    "    i=i+1\n",
    "vocab_file.close()\n"
   ]
  },
  {
   "cell_type": "code",
   "execution_count": 36,
   "metadata": {},
   "outputs": [
    {
     "data": {
      "text/plain": [
       "210"
      ]
     },
     "execution_count": 36,
     "metadata": {},
     "output_type": "execute_result"
    }
   ],
   "source": [
    "len(all_final_tokens)"
   ]
  },
  {
   "cell_type": "markdown",
   "metadata": {},
   "source": [
    "## 13. Unit vocab report with token index and token frequency count\n",
    "The final output needs to be in \"unit_code, token1_index:wordcount, token2_index:wordcount,...\""
   ]
  },
  {
   "cell_type": "code",
   "execution_count": 42,
   "metadata": {},
   "outputs": [],
   "source": [
    "index_dict={}\n",
    "for i in range(len(all_final_tokens)):\n",
    "    index_dict[all_final_tokens[i]]=i\n",
    "#print(index_dict)\n"
   ]
  },
  {
   "cell_type": "code",
   "execution_count": 38,
   "metadata": {},
   "outputs": [],
   "source": [
    "out_file= open(\"29915651_countVec.txt\",'w')\n",
    "#vocab = list(vocab) #all_final_tokens\n",
    "\n",
    "#saving the tokens post counting frequency with its index number and with its unit code\n",
    "for k1,v1 in final_tokens.items():\n",
    "    d_idx = [index_dict[w] for w in v1]\n",
    "    out_file.write(\"{}, \".format(k1))\n",
    "    for k2, v2 in FreqDist(d_idx).items():\n",
    "        out_file.write(\"{}:{} ,\".format(k2,v2))\n",
    "    out_file.write('\\n')\n",
    "out_file.close()\n",
    " "
   ]
  },
  {
   "cell_type": "markdown",
   "metadata": {},
   "source": [
    "## 14.Summary \n",
    "\n",
    "This assessment helps in understanding next steps for analyzing textual data post extraction of text, i.e., converting the extracted data into a proper format The main outcomes achieved while applying these techniques were:\n",
    "\n",
    "- **Execution flow** to understand the importance of the order of execution for tokenization, finding bigrams, normalization, stemming etc. to retain the important words\n",
    "- **Tokenization, collocation extraction**. By using the `nltk` package charaters were tokeinzed with ease and 200 meaningful bigrams were also generated to further tokenize the initial corpus. \n",
    "- **Stopwaord Removal** the context dependent and context independent stopwards were easily removed using dictionary datatype\n",
    "- **Stemming** Stemming was carried out using Porter stem method to remove redundant information occurning due to lexical variations of the words.\n",
    "- **Vocabulary and sparse vector generation**. A vocabulary covering words from all units was obtained.`nltk`'s frequency distribution function `FreqDist()` were used to create the final sparese vector by counting the frequency of vocabulary word occurrences in each unit and representing the unit with its index.."
   ]
  },
  {
   "cell_type": "markdown",
   "metadata": {},
   "source": [
    "## 15. References\n",
    "\n",
    "To convert PDF to excel <br />\n",
    "https://simplypdf.com/Excel <br />\n",
    "Data frame to list <br />\n",
    "https://stackoverflow.com/questions/15112234/how-can-i-convert-a-pandas-dataframe-into-a-list <br />\n",
    "RegexpTokenizer <br />\n",
    "https://www.nltk.org/_modules/nltk/tokenize/regexp.html <br />\n",
    "Collocations <br />\n",
    "http://www.nltk.org/howto/collocations.html <br />\n",
    "MWETokenizer <br />\n",
    "https://www.nltk.org/_modules/nltk/tokenize/mwe.html <br />\n",
    "\n"
   ]
  },
  {
   "cell_type": "code",
   "execution_count": null,
   "metadata": {},
   "outputs": [],
   "source": []
  }
 ],
 "metadata": {
  "kernelspec": {
   "display_name": "Python 3",
   "language": "python",
   "name": "python3"
  },
  "language_info": {
   "codemirror_mode": {
    "name": "ipython",
    "version": 3
   },
   "file_extension": ".py",
   "mimetype": "text/x-python",
   "name": "python",
   "nbconvert_exporter": "python",
   "pygments_lexer": "ipython3",
   "version": "3.6.5"
  }
 },
 "nbformat": 4,
 "nbformat_minor": 2
}
